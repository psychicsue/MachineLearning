{
 "cells": [
  {
   "cell_type": "markdown",
   "metadata": {},
   "source": [
    "# Implement possibilistic k-means\n",
    "\n",
    "Goal:\n",
    "\n",
    "    Implement the mahalanobis_distance function.\n",
    "    Implement the mahalanobis_distance function.\n",
    "    Implement the calculate_u.\n",
    "\n",
    "Hint: the assignation matrix should not be set to zeros at the beginning.\n"
   ]
  },
  {
   "cell_type": "code",
   "execution_count": 2,
   "metadata": {},
   "outputs": [],
   "source": [
    "import random\n",
    "import math\n",
    "import numpy as np\n",
    "from numpy.linalg import inv\n",
    "import matplotlib.pyplot as plt"
   ]
  },
  {
   "cell_type": "code",
   "execution_count": 3,
   "metadata": {},
   "outputs": [],
   "source": [
    "aMatrix = np.random.rand(4,2)\n",
    "bMatrix = np.random.rand(4,2)"
   ]
  },
  {
   "cell_type": "code",
   "execution_count": 4,
   "metadata": {},
   "outputs": [],
   "source": [
    "X=np.array([(4,1940),(9,2960),(9,4630),(78,1528),(90,2040),(50,3700),(467,14815),(509,15200),(290,15700),(215,6045)])"
   ]
  },
  {
   "cell_type": "code",
   "execution_count": 5,
   "metadata": {},
   "outputs": [
    {
     "data": {
      "image/png": "[encoded data removed]",
      "text/plain": [
       "<Figure size 432x288 with 1 Axes>"
      ]
     },
     "metadata": {},
     "output_type": "display_data"
    }
   ],
   "source": [
    "x1 = np.array(X[:,0])\n",
    "x2 = np.array(X[:,1])\n",
    "\n",
    "fig, ax = plt.subplots()\n",
    "ax.scatter(x1,x2)\n",
    "ax.set(xlabel='Seats count', ylabel='Distance range (km)',\n",
    "       title='Aircrafts')\n",
    "ax.grid()\n",
    "plt.show()"
   ]
  },
  {
   "cell_type": "code",
   "execution_count": 8,
   "metadata": {},
   "outputs": [],
   "source": [
    "train_data = np.array(X)\n",
    "max_values = train_data.max(0)\n",
    "\n",
    "X_norm = np.divide(train_data,max_values)"
   ]
  },
  {
   "cell_type": "code",
   "execution_count": 9,
   "metadata": {},
   "outputs": [],
   "source": [
    "data_set=X_norm\n",
    "groups = 2\n",
    "space=[[0,1],[0,1]]\n",
    "\n",
    "error_margin = 0.01\n",
    "m = 2.0\n",
    "\n",
    "assignation=np.zeros((len(X),groups))"
   ]
  },
  {
   "cell_type": "code",
   "execution_count": 10,
   "metadata": {},
   "outputs": [
    {
     "data": {
      "text/plain": [
       "[<matplotlib.lines.Line2D at 0x7fa8afd9d940>]"
      ]
     },
     "execution_count": 10,
     "metadata": {},
     "output_type": "execute_result"
    },
    {
     "data": {
      "image/png": "[encoded data removed]",
      "text/plain": [
       "<Figure size 432x288 with 1 Axes>"
      ]
     },
     "metadata": {},
     "output_type": "display_data"
    }
   ],
   "source": [
    "plt.plot(aMatrix[:,0], bMatrix[:,0], 'o')"
   ]
  },
  {
   "cell_type": "code",
   "execution_count": 11,
   "metadata": {},
   "outputs": [],
   "source": [
    "import scipy.linalg as lg\n",
    "\n",
    "class MahalanobisDistance:\n",
    "\n",
    "    def set_dataset(self, dataset):\n",
    "        self.dataset = dataset    \n",
    "\n",
    "    def get_distance(self, x, v, feature_matrix):\n",
    "        matrix_A = self.get_inverse_covariance_matrix(feature_matrix)\n",
    "        result = np.subtract(x, v)\n",
    "        return np.dot(np.dot(result, matrix_A), result)    \n",
    "    \n",
    "    def get_inverse_covariance_matrix(self,feature_matrix):\n",
    "        print(feature_matrix)\n",
    "        means_vector=np.mean(feature_matrix,axis=0)\n",
    "        sum=np.zeros((2,2))\n",
    "        for i in range(len(feature_matrix)):\n",
    "            a=np.subtract(feature_matrix[i],means_vector)\n",
    "            sum=np.add(sum,np.outer(a,a))\n",
    "        return lg.inv(np.divide(sum,len(feature_matrix)))"
   ]
  },
  {
   "cell_type": "code",
   "execution_count": 12,
   "metadata": {},
   "outputs": [],
   "source": [
    "mahalanobis_distance = MahalanobisDistance()\n",
    "mahalanobis_distance.set_dataset(data_set)"
   ]
  },
  {
   "cell_type": "code",
   "execution_count": 13,
   "metadata": {},
   "outputs": [],
   "source": [
    "def calculate_mah_distance(x1, x2, feature_matrix):\n",
    "    global mahalanobis_distance\n",
    "    return mahalanobis_distance.get_distance(x1, x2, feature_matrix)"
   ]
  },
  {
   "cell_type": "code",
   "execution_count": 40,
   "metadata": {},
   "outputs": [],
   "source": [
    "def covariance_uv(u,v):\n",
    "    return np.cov(u, v, rowvar=0)"
   ]
  },
  {
   "cell_type": "code",
   "execution_count": 41,
   "metadata": {},
   "outputs": [
    {
     "data": {
      "text/plain": [
       "array([[ 0.0137478 , -0.01692178, -0.0033349 ,  0.00168264],\n",
       "       [-0.01692178,  0.04451522, -0.0193102 , -0.00845478],\n",
       "       [-0.0033349 , -0.0193102 ,  0.03644015, -0.01577871],\n",
       "       [ 0.00168264, -0.00845478, -0.01577871,  0.0395778 ]])"
      ]
     },
     "execution_count": 41,
     "metadata": {},
     "output_type": "execute_result"
    }
   ],
   "source": [
    "covariance_uv(aMatrix, bMatrix)"
   ]
  },
  {
   "cell_type": "code",
   "execution_count": 42,
   "metadata": {},
   "outputs": [],
   "source": [
    "def mean_uv(u, v):\n",
    "    uv_mean = np.mean(u), np.mean(v)\n",
    "    return uv_mean"
   ]
  },
  {
   "cell_type": "code",
   "execution_count": 43,
   "metadata": {},
   "outputs": [
    {
     "data": {
      "text/plain": [
       "(0.4127337673893918, 0.5910662239846161)"
      ]
     },
     "execution_count": 43,
     "metadata": {},
     "output_type": "execute_result"
    }
   ],
   "source": [
    "mean_uv(aMatrix, bMatrix)"
   ]
  },
  {
   "cell_type": "code",
   "execution_count": 53,
   "metadata": {},
   "outputs": [],
   "source": [
    "centers = []\n",
    "\n",
    "def select_centers():\n",
    "    global centers\n",
    "    global groups\n",
    "    global space\n",
    "    iter=0\n",
    "    while iter<groups-1:\n",
    "        centers.append((random.uniform(space[0][0],space[0][1]), \n",
    "                        random.uniform(space[1][0],space[1][1]),\n",
    "                        random.uniform(space[0][1],space[1][1])))\n",
    "        iter=iter+1\n",
    "        \n",
    "select_centers()"
   ]
  },
  {
   "cell_type": "code",
   "execution_count": 54,
   "metadata": {},
   "outputs": [
    {
     "name": "stdout",
     "output_type": "stream",
     "text": [
      "[(0.2781777157037736, 0.8387978812945825, 1.0)]\n"
     ]
    }
   ],
   "source": [
    "print(centers)"
   ]
  },
  {
   "cell_type": "code",
   "execution_count": 55,
   "metadata": {},
   "outputs": [],
   "source": [
    "def distance_uv(u, v, ax=1):\n",
    "    return np.linalg.norm(u-v, axis=ax)\n",
    "\n",
    "# //vectors\n",
    "def calculate_distance(u,v):\n",
    "    return math.sqrt((u[0]-v[0])**2+(u[1]-v[1])**2)"
   ]
  },
  {
   "cell_type": "code",
   "execution_count": 56,
   "metadata": {},
   "outputs": [],
   "source": [
    "def calculate_u(x, i):\n",
    "    global centers\n",
    "    if calculate_distance(x, centers[0]) < calculate_distance(x, centers[1]):\n",
    "        return [1,0]\n",
    "    else:\n",
    "        return [0,1]\n",
    "    "
   ]
  },
  {
   "cell_type": "code",
   "execution_count": 14,
   "metadata": {},
   "outputs": [],
   "source": [
    "def calculate_new_centers(u):\n",
    "    global centers\n",
    "    global groups\n",
    "    global data_set\n",
    "    global m\n",
    "    new_centers=[]\n",
    "    for c in range(groups):\n",
    "        u_x_vector=np.zeros(groups)\n",
    "        u_scalar=0.0\n",
    "        for i in range(len(data_set)):\n",
    "            u_scalar = u_scalar+(u[i][c]**m)\n",
    "            u_x_vector=np.add(u_x_vector,np.multiply(u[i][c]**m,data_set[i]))\n",
    "        new_centers.append(np.divide(u_x_vector,u_scalar))\n",
    "    centers=new_centers"
   ]
  },
  {
   "cell_type": "code",
   "execution_count": 58,
   "metadata": {},
   "outputs": [],
   "source": [
    "def calculate_differences(new_assignation):\n",
    "    global assignation    \n",
    "    return np.sum(np.abs(np.subtract(assignation,new_assignation)))"
   ]
  },
  {
   "cell_type": "code",
   "execution_count": 16,
   "metadata": {},
   "outputs": [],
   "source": [
    "def calculate_u_fcm(x,i):\n",
    "    global centers\n",
    "    if i == 0:\n",
    "        sum=1.0+(calculate_distance(x, centers[0])/calculate_distance(x, centers[1]))**2\n",
    "    else:\n",
    "        sum=1.0+(calculate_distance(x, centers[1])/calculate_distance(x, centers[0]))**2\n",
    "    return sum**-1"
   ]
  },
  {
   "cell_type": "code",
   "execution_count": 15,
   "metadata": {},
   "outputs": [],
   "source": [
    "def calculate_eta(x,i):\n",
    "    global data_set\n",
    "    global centers\n",
    "    global assignation\n",
    "    eta_scalar_top = 0.0\n",
    "    eta_scalar_bottom = 0.0\n",
    "    mah_distance = calculate_mah_distance(x,centers[i],data_set)\n",
    "    for k in range(len(data_set)):\n",
    "        eta_scalar_bottom = eta_scalar_bottom + (assignation[k][i]**m)\n",
    "        eta_scalar_top = eta_scalar_top + mah_distance * assignation[k][i]\n",
    "    return eta_scalar_top*1.0/eta_scalar_bottom*1.0"
   ]
  },
  {
   "cell_type": "code",
   "execution_count": 17,
   "metadata": {},
   "outputs": [],
   "source": [
    "def calculate_u_pcm(x,i):\n",
    "    global data_set\n",
    "    global centers\n",
    "    eta = calculate_eta(x,i)\n",
    "    if i == 0:\n",
    "        sum=1.0+((calculate_mah_distance(x, centers[0],data_set))**2)/eta\n",
    "    else:\n",
    "        sum=1.0+((calculate_mah_distance(x, centers[1],data_set))**2)/eta\n",
    "    return sum**-1"
   ]
  },
  {
   "cell_type": "code",
   "execution_count": 59,
   "metadata": {},
   "outputs": [],
   "source": [
    "def cluster():\n",
    "    global assignation    \n",
    "    global error_margin\n",
    "    difference_limit_not_achieved=True\n",
    "    iter=0\n",
    "    while difference_limit_not_achieved:\n",
    "        new_assignation=[]\n",
    "        for i in range(len(data_set)):\n",
    "            new_assignation.append(calculate_u(data_set[i], iter))\n",
    "        calculate_new_centers(new_assignation)\n",
    "        if iter>0:\n",
    "            if calculate_differences(new_assignation) < error_margin:\n",
    "                difference_limit_not_achieved=False\n",
    "        assignation=new_assignation\n",
    "        iter=iter+1"
   ]
  },
  {
   "cell_type": "code",
   "execution_count": null,
   "metadata": {},
   "outputs": [],
   "source": []
  },
  {
   "cell_type": "code",
   "execution_count": null,
   "metadata": {},
   "outputs": [],
   "source": []
  },
  {
   "cell_type": "code",
   "execution_count": 45,
   "metadata": {},
   "outputs": [],
   "source": [
    "def MahalanobisDistance(u, v):\n",
    "    covariance_uv = np.cov(u,v, rowvar = 0)\n",
    "    inv_covariance_uv = np.linalg.norm(covariance_uv)\n",
    "    uv_mean = np.mean(u), np.mean(v)\n",
    "    u_diff = np.array([u_i - uv_mean[0] for u_i in u])\n",
    "    v_diff = np.array([v_i - uv_mean[0] for v_i in v])\n",
    "    diff_uv = np.transpose([u_diff, v_diff])\n",
    "    \n",
    "    md = []\n",
    "    for i in range(len(diff_uv)):\n",
    "        md.append(np.sqrt(np.dot(np.dot(np.transpose(diff_uv[i]), inv_covariance_uv), diff_uv[i])))\n",
    "    return md"
   ]
  },
  {
   "cell_type": "code",
   "execution_count": 48,
   "metadata": {},
   "outputs": [
    {
     "data": {
      "text/plain": [
       "[array([[0.31554445, 0.23127216],\n",
       "        [0.23127216, 0.42130595]]), array([[0.36864155, 0.15504821],\n",
       "        [0.15504821, 0.18169393]])]"
      ]
     },
     "execution_count": 48,
     "metadata": {},
     "output_type": "execute_result"
    }
   ],
   "source": [
    "MahalanobisDistance(aMatrix, bMatrix)"
   ]
  },
  {
   "cell_type": "markdown",
   "metadata": {},
   "source": [
    "Second implementation"
   ]
  },
  {
   "cell_type": "code",
   "execution_count": 6,
   "metadata": {},
   "outputs": [],
   "source": [
    "def mahalanobis_distance_2(u,v,VI):\n",
    "    u = _validate_vector(u)\n",
    "    v = _validate_vector(v)\n",
    "    VI = np.atleast_2d(VI)\n",
    "    delta = u - v \n",
    "    m = np.dot(np.dot(delta, VI), delta)\n",
    "    return np.sqrt(m)"
   ]
  },
  {
   "cell_type": "code",
   "execution_count": 7,
   "metadata": {},
   "outputs": [],
   "source": [
    "def mahalanobis_distance_not_squared_2(u,v,VI):\n",
    "    u = _validate_vector(u)\n",
    "    v = _validate_vector(v)\n",
    "    VI = np.atleast_2d(VI)\n",
    "    delta = u - v \n",
    "    m = np.dot(np.dot(delta, VI), delta)\n",
    "    return m"
   ]
  },
  {
   "cell_type": "code",
   "execution_count": 8,
   "metadata": {},
   "outputs": [],
   "source": [
    "def calculate_eta(u,v):\n",
    "    inversed_v = inv(v)\n",
    "    sum = (1.0 + (assignation) **2*mahalanobis_distance_not_squared(u,v,inversed_v)) / (1.0 + (assignation) **2)\n",
    "    return sum"
   ]
  },
  {
   "cell_type": "code",
   "execution_count": 9,
   "metadata": {},
   "outputs": [],
   "source": [
    "def calculate_u1(u,v):\n",
    "    inversed_v = inv(v)\n",
    "    distance = mahalanobis_distance(u, v, inversed_v)\n",
    "    result = 1.0 + (mahalanobis_distance(u,v, inversed_v) / calculate_eta(u,v)) ** 2\n",
    "    return result ** -1"
   ]
  }
 ],
 "metadata": {
  "kernelspec": {
   "display_name": "Python 3",
   "language": "python",
   "name": "python3"
  },
  "language_info": {
   "codemirror_mode": {
    "name": "ipython",
    "version": 3
   },
   "file_extension": ".py",
   "mimetype": "text/x-python",
   "name": "python",
   "nbconvert_exporter": "python",
   "pygments_lexer": "ipython3",
   "version": "3.6.4"
  }
 },
 "nbformat": 4,
 "nbformat_minor": 2
}
